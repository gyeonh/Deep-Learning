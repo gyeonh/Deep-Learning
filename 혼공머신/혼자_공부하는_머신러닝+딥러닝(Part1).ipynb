{
  "nbformat": 4,
  "nbformat_minor": 0,
  "metadata": {
    "colab": {
      "name": "혼자 공부하는 머신러닝+딥러닝(Part1)",
      "private_outputs": true,
      "provenance": [],
      "toc_visible": true,
      "authorship_tag": "ABX9TyOV3pqmMTJJOcUX/dJ6zQFq"
    },
    "kernelspec": {
      "name": "python3",
      "display_name": "Python 3"
    },
    "language_info": {
      "name": "python"
    }
  },
  "cells": [
    {
      "cell_type": "markdown",
      "metadata": {
        "id": "XWf9JBONMlTi"
      },
      "source": [
        "#CH01. 나의 첫 머신러닝\n"
      ]
    },
    {
      "cell_type": "markdown",
      "metadata": {
        "id": "gUsmgsqbkM4_"
      },
      "source": [
        "##1.3 마켓과 머신러닝"
      ]
    },
    {
      "cell_type": "markdown",
      "metadata": {
        "id": "XBG56K0_c7ZX"
      },
      "source": [
        "### 생선 분류 문제"
      ]
    },
    {
      "cell_type": "code",
      "metadata": {
        "id": "99-G77ZZLqwJ"
      },
      "source": [
        "##각 도미의 길이와 무게 데이터\n",
        "bream_length = [25.4, 26.3, 26.5, 29.0, 29.0, 29.7, 29.7, 30.0, 30.0, 30.7, 31.0, 31.0, \n",
        "                31.5, 32.0, 32.0, 32.0, 33.0, 33.0, 33.5, 33.5, 34.0, 34.0, 34.5, 35.0, \n",
        "                35.0, 35.0, 35.0, 36.0, 36.0, 37.0, 38.5, 38.5, 39.5, 41.0, 41.0]\n",
        "bream_weight = [242.0, 290.0, 340.0, 363.0, 430.0, 450.0, 500.0, 390.0, 450.0, 500.0, 475.0, 500.0, \n",
        "                500.0, 340.0, 600.0, 600.0, 700.0, 700.0, 610.0, 650.0, 575.0, 685.0, 620.0, 680.0, \n",
        "                700.0, 725.0, 720.0, 714.0, 850.0, 1000.0, 920.0, 955.0, 925.0, 975.0, 950.0]"
      ],
      "execution_count": null,
      "outputs": []
    },
    {
      "cell_type": "code",
      "metadata": {
        "id": "OVOt950wQByl"
      },
      "source": [
        "import matplotlib.pyplot as plt     #matplotlib의 pyplot 함수를 plt로 줄여서 사용\n",
        "\n",
        "plt.scatter(bream_length, bream_weight)     ##산점도 그리기\n",
        "plt.xlabel('length')    #x축은 길이\n",
        "plt.ylabel('weight')    #y축은 무게\n",
        "plt.show()"
      ],
      "execution_count": null,
      "outputs": []
    },
    {
      "cell_type": "code",
      "metadata": {
        "id": "TRtaexZiRDfL"
      },
      "source": [
        "##각 빙어의 길이와 무게 데이터\n",
        "smelt_length = [9.8, 10.5, 10.6, 11.0, 11.2, 11.3, 11.8, 11.8, 12.0, 12.2, 12.4, 13.0, 14.3, 15.0]\n",
        "smelt_weight = [6.7, 7.5, 7.0, 9.7, 9.8, 8.7, 10.0, 9.9, 9.8, 12.2, 13.4, 12.2, 19.7, 19.9]"
      ],
      "execution_count": null,
      "outputs": []
    },
    {
      "cell_type": "code",
      "metadata": {
        "id": "EIuVXk7kRDQo"
      },
      "source": [
        "plt.scatter(smelt_length, smelt_weight)\n",
        "plt.xlabel('length')\n",
        "plt.ylabel('weight')\n",
        "plt.show()"
      ],
      "execution_count": null,
      "outputs": []
    },
    {
      "cell_type": "code",
      "metadata": {
        "id": "bU-MpVJcRhU1"
      },
      "source": [
        "##도미와 빙어 데이터 한번에 그래프로 표현\n",
        "##k-최근접 이웃 알고리즘\n",
        "plt.scatter(smelt_length, smelt_weight)\n",
        "plt.scatter(bream_length, bream_weight)\n",
        "plt.xlabel('length')\n",
        "plt.ylabel('weight')\n",
        "plt.show"
      ],
      "execution_count": null,
      "outputs": []
    },
    {
      "cell_type": "markdown",
      "metadata": {
        "id": "kFCW-kQ-Sib1"
      },
      "source": [
        "빙어는 길이와 무게가 비례하는 것이 도미와 같지만 늘어나는 정도가 다름을 알 수 있다. \n",
        "따라서 빙어의 산점도도 선형적이지만 무게가 길이에 영향을 덜 받는다고 할 수 있다."
      ]
    },
    {
      "cell_type": "code",
      "metadata": {
        "id": "jilotPfWS3dH"
      },
      "source": [
        "##k-최근접 이웃 알고리즘을 사용하기 위해 도미와 빙어의 데이터를 합침\n",
        "length = bream_length + smelt_length\n",
        "weight = bream_weight + smelt_weight\n",
        "\n",
        "fish_data=[[l,w] for l,w in zip(length,weight)]\n",
        "print(fish_data)\n",
        "\n",
        "fish_target = [1] * 35 + [0] * 14\n",
        "print(fish_target)"
      ],
      "execution_count": null,
      "outputs": []
    },
    {
      "cell_type": "code",
      "metadata": {
        "id": "uK6ILa5YVsQ7"
      },
      "source": [
        "##사이킷런 패키지에서 k-최근접 이웃 알고리즘을 구현한 KNeighborsClassifier 클래스를 임포트함\n",
        "from sklearn.neighbors import KNeighborsClassifier\n",
        "\n",
        "kn = KNeighborsClassifier()         ##객체 생성\n",
        "kn.fit(fish_data, fish_target)      ##알고리즘 학습 시킨 뒤, 훈련 => fit() 메서드 사용\n",
        "kn.score(fish_data, fish_target)    ##모델 평가 => score() 메서드 사용\n",
        "kn.predict([[30, 600]])             ##새로운 데이터의 정답 예측 => predict() 메서드 사용"
      ],
      "execution_count": null,
      "outputs": []
    },
    {
      "cell_type": "code",
      "metadata": {
        "id": "z9nWpKxrYba2"
      },
      "source": [
        "print(kn._fit_X)    ##우리가 전달한 fish_data\n",
        "print(kn._y)        ##fish_target"
      ],
      "execution_count": null,
      "outputs": []
    },
    {
      "cell_type": "code",
      "metadata": {
        "id": "VqcAtkHYa-ug"
      },
      "source": [
        "kn49 = KNeighborsClassifier(n_neighbors=49)     #참고할 데이터의 개수를 49개로 지정한 모델\n",
        "kn49.fit(fish_data, fish_target)\n",
        "kn49.score(fish_data, fish_target)\n",
        "print(kn49.score(fish_data, fish_target))\n",
        "print(35 / 49)                                  ##49마리 중 도미가 35마리 빙어가 14마리 이므로, 도미를 맞출 정확도는 35/49와 같다."
      ],
      "execution_count": null,
      "outputs": []
    },
    {
      "cell_type": "code",
      "metadata": {
        "id": "jS6pQlalhb9p"
      },
      "source": [
        "#확인문제 4번\n",
        "kn = KNeighborsClassifier()\n",
        "kn.fit(fish_data, fish_target)\n",
        "\n",
        "for n in range(5, 50):\n",
        "    #k-최근접 이웃 개수 설정\n",
        "    kn.n_neighbors = n\n",
        "    #점수 계산\n",
        "    score = kn.score(fish_data, fish_target)\n",
        "    #100% 정확도에 미치지 못하는 이웃 개수 출력\n",
        "    if score < 1:\n",
        "        print(n, score)\n",
        "        break"
      ],
      "execution_count": null,
      "outputs": []
    },
    {
      "cell_type": "markdown",
      "metadata": {
        "id": "u-xW_mPodIDH"
      },
      "source": [
        "#CH02. 데이터 다루기"
      ]
    },
    {
      "cell_type": "code",
      "metadata": {
        "id": "5LHDXttOkSjR"
      },
      "source": [
        ""
      ],
      "execution_count": null,
      "outputs": []
    },
    {
      "cell_type": "markdown",
      "metadata": {
        "id": "NcgksnbgkddD"
      },
      "source": [
        "#CH03. 회귀 알고리즘과 모델 규제"
      ]
    },
    {
      "cell_type": "code",
      "metadata": {
        "id": "A8QWFElfkiOg"
      },
      "source": [
        ""
      ],
      "execution_count": null,
      "outputs": []
    },
    {
      "cell_type": "markdown",
      "metadata": {
        "id": "RQEn0nlHkjTR"
      },
      "source": [
        "#CH04. 다양한 분류 알고리즘"
      ]
    },
    {
      "cell_type": "code",
      "metadata": {
        "id": "jTZch_vSknOt"
      },
      "source": [
        ""
      ],
      "execution_count": null,
      "outputs": []
    },
    {
      "cell_type": "markdown",
      "metadata": {
        "id": "dyrISP4pHoZv"
      },
      "source": [
        "#CH05. 트리 알고리즘"
      ]
    },
    {
      "cell_type": "markdown",
      "metadata": {
        "id": "TwjEkC_4JHDJ"
      },
      "source": [
        "##5.1 결정 트리"
      ]
    },
    {
      "cell_type": "code",
      "metadata": {
        "id": "5NK6W_CbI-8q"
      },
      "source": [
        "#데이터셋 불러오기\n",
        "import pandas as pd\n",
        "wine = pd.read_csv(\"https://bit.ly/wine_csv_data\")"
      ],
      "execution_count": null,
      "outputs": []
    },
    {
      "cell_type": "code",
      "metadata": {
        "id": "oCgmkWu_J4G-"
      },
      "source": [
        "wine.head()     #head() 메서드로 처음 다섯개의 샘플을 확인"
      ],
      "execution_count": null,
      "outputs": []
    },
    {
      "cell_type": "code",
      "metadata": {
        "id": "1HGB_3KtKIlA"
      },
      "source": [
        "wine.info()     #info() 메서드는 df의 각 열의 데이터 타입(Dtype)과 누락된 데이터(Non-Null Count)가 있는지 확인하는데 유용하다."
      ],
      "execution_count": null,
      "outputs": []
    },
    {
      "cell_type": "code",
      "metadata": {
        "id": "u0ZD5pgPL8nT"
      },
      "source": [
        "wine.describe()     # describe() 메서드는 각 열에 대한 간단한 통계(최소, 최대, 평균값 등)을 출력해준다."
      ],
      "execution_count": null,
      "outputs": []
    },
    {
      "cell_type": "code",
      "metadata": {
        "id": "-Z6JrdqdMOJ0"
      },
      "source": [
        "# 처음 3개의 열을 넘파이 배열로 바꿔서 data배열에 저장하고 class열을 넘파이 배열로 바꿔서 target배열에 저장\n",
        "data = wine[['alcohol', 'sugar', 'pH']].to_numpy()\n",
        "target = wine['class'].to_numpy()"
      ],
      "execution_count": null,
      "outputs": []
    },
    {
      "cell_type": "code",
      "metadata": {
        "id": "YhYS2wjKMx_R"
      },
      "source": [
        "# 훈련 세트와 테스트 세트로 나누기\n",
        "from sklearn.model_selection import train_test_split\n",
        "train_input, test_input, train_target, test_target = train_test_split(data, target, test_size=0.2, random_state=42)\n",
        "# test_size=0.2는 전체 데이터의 20%를 테스트 세트로 지정하겠다는 의미이다.\n",
        "# 지정하지 않을 경우에는 25%를 테스트 세트로 지정한다. 샘플 개수가 많을 때는 테스트 세트 개수를 적게 잡아도 된다."
      ],
      "execution_count": null,
      "outputs": []
    },
    {
      "cell_type": "code",
      "metadata": {
        "id": "igRhk_u9QY3w"
      },
      "source": [
        "#훈련 세트와 테스트 세트의 크기 확인\n",
        "print(train_input.shape, test_input.shape)"
      ],
      "execution_count": null,
      "outputs": []
    },
    {
      "cell_type": "code",
      "metadata": {
        "id": "4HCVHNZWSCw2"
      },
      "source": [
        "#StandardScaler 클래스를 사용해서 훈련 세트를 전처리\n",
        "from sklearn.processing import StandardScaler\n",
        "ss = StandardScaler()\n",
        "ss.fit(train_input)\n",
        "train_scaled = ss.transform(train_input)"
      ],
      "execution_count": null,
      "outputs": []
    }
  ]
}